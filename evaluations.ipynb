{
 "cells": [
  {
   "cell_type": "code",
   "execution_count": null,
   "metadata": {},
   "outputs": [],
   "source": [
    "from dotenv import load_dotenv\n",
    "load_dotenv('.env.dev')\n",
    "\n",
    "\n",
    "from langsmith.evaluation import evaluate\n",
    "from evaluations.utils import create_dataset, Evaluator"
   ]
  },
  {
   "cell_type": "markdown",
   "metadata": {},
   "source": [
    "### Main agent - single steps\n",
    "I create a dataset to check if the tools are called correctly. If they are, score = 1, else score = 0\n",
    "Available tools: ToRecommendationsAssistant, ToServicesAssistant"
   ]
  },
  {
   "cell_type": "code",
   "execution_count": null,
   "metadata": {},
   "outputs": [],
   "source": [
    "dataset = {\n",
    "    \"ToRecommendationsAssistant\":[\n",
    "        \"What can I visit in Paris?\",\n",
    "        \"I like medieval castles, where should i go?\",\n",
    "        \"create an itinerary for 2 weeks in the cote d'azur\",\n",
    "        \"What is the average temperature in Europe now?\"\n",
    "    ],\n",
    "    \"ToServicesAssistant\":[\n",
    "        \"I want hotel recommendations for 4 days\",\n",
    "        \"Search flights for November to go to NY\",\n",
    "        \"Recommend fishing guides in Argentina for Dorado fishing\"\n",
    "    ]\n",
    "}"
   ]
  },
  {
   "cell_type": "code",
   "execution_count": null,
   "metadata": {},
   "outputs": [],
   "source": [
    "from agents.primary_assistant import get_primary_assistant_runnable\n",
    "\n",
    "dataset_name = \"Travel-planner Single Steps\"\n",
    "create_dataset(dataset,dataset_name) #TODO: should be update instead of create, in case i add new test cases\n",
    "\n",
    "evaluator = Evaluator(get_primary_assistant_runnable())\n",
    "experiment_prefix = \"main-agent-gpt4o\"\n",
    "# metadata = \"toolcalltest, gpt-4o base-case-agent\"\n",
    "\n",
    "experiment_results = evaluate(\n",
    "    evaluator.predict_assistant,\n",
    "    data=dataset_name,\n",
    "    evaluators=[evaluator.check_specific_tool_call],\n",
    "    experiment_prefix=experiment_prefix + \"-single-tool\",\n",
    "    num_repetitions=2,\n",
    "    # metadata={\"version\": metadata},\n",
    ")"
   ]
  },
  {
   "cell_type": "markdown",
   "metadata": {},
   "source": [
    "### Recommendations agent - single steps\n",
    "I create a dataset to check if the tools are called correctly. If they are, score = 1, else score = 0\n",
    "\n",
    "Available tools: get_web_searcher, CompleteOrEscalate"
   ]
  },
  {
   "cell_type": "code",
   "execution_count": null,
   "metadata": {},
   "outputs": [],
   "source": [
    "dataset = {\n",
    "    \"get_web_searcher\":[\n",
    "        \"What is the current temperature in Europe now?\",\n",
    "        \"What is a good ski resort?\"        \n",
    "    ],\n",
    "    \"CompleteOrEscalate\":[\n",
    "        \"Thanks!\",\n",
    "        \"I don't need further help\"\n",
    "    ]\n",
    "}"
   ]
  },
  {
   "cell_type": "code",
   "execution_count": null,
   "metadata": {},
   "outputs": [],
   "source": [
    "from agents.recommendations_assistant import get_recommendations_runnable\n",
    "\n",
    "\n",
    "dataset_name = \"Travel-planner Single Steps - recommendations agent\"\n",
    "create_dataset(dataset,dataset_name) #TODO: should be update instead of create, in case i add new test cases\n",
    "\n",
    "evaluator = Evaluator(get_recommendations_runnable())\n",
    "experiment_prefix = \"recommendations-agent-gpt4o\"\n",
    "# metadata = \"toolcalltest, gpt-4o base-case-agent\"\n",
    "\n",
    "experiment_results = evaluate(\n",
    "    evaluator.predict_assistant,\n",
    "    data=dataset_name,\n",
    "    evaluators=[evaluator.check_specific_tool_call],\n",
    "    experiment_prefix=experiment_prefix + \"-single-tool\",\n",
    "    num_repetitions=2,\n",
    "    # metadata={\"version\": metadata},\n",
    ")"
   ]
  },
  {
   "cell_type": "code",
   "execution_count": null,
   "metadata": {},
   "outputs": [],
   "source": []
  }
 ],
 "metadata": {
  "kernelspec": {
   "display_name": "Python 3",
   "language": "python",
   "name": "python3"
  },
  "language_info": {
   "codemirror_mode": {
    "name": "ipython",
    "version": 3
   },
   "file_extension": ".py",
   "mimetype": "text/x-python",
   "name": "python",
   "nbconvert_exporter": "python",
   "pygments_lexer": "ipython3",
   "version": "3.10.12"
  }
 },
 "nbformat": 4,
 "nbformat_minor": 2
}
